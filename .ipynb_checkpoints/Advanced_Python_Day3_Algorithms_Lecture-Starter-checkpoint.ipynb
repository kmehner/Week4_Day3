{
 "cells": [
  {
   "cell_type": "markdown",
   "metadata": {},
   "source": [
    "# Classic Algorithms"
   ]
  },
  {
   "cell_type": "markdown",
   "metadata": {},
   "source": [
    "## Tasks Today:\n",
    " \n",
    "1) <b>In-Place Algorithms</b> <br>\n",
    " &nbsp;&nbsp;&nbsp;&nbsp; a) Syntax <br>\n",
    " &nbsp;&nbsp;&nbsp;&nbsp; a) Out of Place Algorithm <br>\n",
    " &nbsp;&nbsp;&nbsp;&nbsp; b) In-Class Exercise #1 <br>\n",
    "2) <b>Two Pointers</b> <br>\n",
    "3) <b>Sorting Algorithms</b> <br>\n",
    "4) <b>Merge Sort</b> <br>\n",
    " &nbsp;&nbsp;&nbsp;&nbsp; a) Video on Algorithms <br>\n",
    " &nbsp;&nbsp;&nbsp;&nbsp; b) How it Works <br>\n",
    "5) <b>Exercises</b> <br>\n",
    " &nbsp;&nbsp;&nbsp;&nbsp; a) Exercise #1 - Reverse a List in Place Using an In-Place Algorithm <br>\n",
    " &nbsp;&nbsp;&nbsp;&nbsp; b) Exercise #2 - Find Distinct Words <br>\n",
    " &nbsp;&nbsp;&nbsp;&nbsp; c) Exercise #3 - Write a program to implement a Linear Search Algorithm. <br>"
   ]
  },
  {
   "cell_type": "markdown",
   "metadata": {},
   "source": [
    "## In-Place Algorithms\n",
    "\n",
    "Careful * \n",
    "\n",
    "Sorts original list if you do NOT create a copy within the function \n",
    "\n",
    "Hence... we passed the actual list into the first couple versions. Then we created a copy and can now place \n",
    "my_list into the function"
   ]
  },
  {
   "cell_type": "markdown",
   "metadata": {},
   "source": [
    "#### Syntax"
   ]
  },
  {
   "cell_type": "code",
   "execution_count": 1,
   "metadata": {},
   "outputs": [],
   "source": [
    "my_list = [1, 2, 3, 4, 5, 6]"
   ]
  },
  {
   "cell_type": "code",
   "execution_count": 2,
   "metadata": {},
   "outputs": [
    {
     "data": {
      "text/plain": [
       "[1, 5, 3, 4, 2, 6]"
      ]
     },
     "execution_count": 2,
     "metadata": {},
     "output_type": "execute_result"
    }
   ],
   "source": [
    "# Requires a tempvar to properly sort....\n",
    "\n",
    "def swap(a_list, index1, index2):\n",
    "    temp = a_list[index1]           # holds the old value so it does not take the value once swapped\n",
    "    a_list[index1] = a_list[index2]\n",
    "    a_list[index2] = temp\n",
    "    return a_list\n",
    "\n",
    "swap([1, 2, 3, 4, 5, 6], 1, 4)"
   ]
  },
  {
   "cell_type": "code",
   "execution_count": 3,
   "metadata": {},
   "outputs": [
    {
     "data": {
      "text/plain": [
       "[1, 5, 3, 4, 2, 6]"
      ]
     },
     "execution_count": 3,
     "metadata": {},
     "output_type": "execute_result"
    }
   ],
   "source": [
    "# Or can be written in this manner to avoid the tempvar\n",
    "\n",
    "# a_list[a], a_list[b] = a_list[b], a_list[b]\n",
    "\n",
    "def swap(a_list, index1, index2):\n",
    "    a_list[index1], a_list[index2] = a_list[index2], a_list[index1]\n",
    "    return a_list\n",
    "\n",
    "swap([1, 2, 3, 4, 5, 6], 1, 4)"
   ]
  },
  {
   "cell_type": "markdown",
   "metadata": {},
   "source": [
    "#### Out of Place Algorithm"
   ]
  },
  {
   "cell_type": "code",
   "execution_count": 4,
   "metadata": {},
   "outputs": [
    {
     "data": {
      "text/plain": [
       "[1, 5, 3, 4, 2, 6]"
      ]
     },
     "execution_count": 4,
     "metadata": {},
     "output_type": "execute_result"
    }
   ],
   "source": [
    "# Creates a copy of the original list to permanently alter, otherwise permanently sorts original list \n",
    "\n",
    "def out_of_place_swap(a_list, index1, index2):\n",
    "    new_list = a_list[:]\n",
    "    new_list[index1] = a_list[index2]\n",
    "    new_list[index2] = a_list[index1]\n",
    "    return new_list\n",
    "\n",
    "out_of_place_swap([1, 2, 3, 4, 5, 6], 1, 4)"
   ]
  },
  {
   "cell_type": "code",
   "execution_count": 5,
   "metadata": {},
   "outputs": [
    {
     "name": "stdout",
     "output_type": "stream",
     "text": [
      "[6, 5, 4, 3, 2, 1]\n",
      "Before Swap: ['a', 'b', 'c', 'd']\n",
      "After out of place swap: ['d', 'c', 'b', 'a']\n"
     ]
    }
   ],
   "source": [
    "# not swapping, but rather reversing completely\n",
    "# BUT also copies to another place in memory\n",
    "my_list_copy = my_list[::-1]\n",
    "print(my_list_copy)\n",
    "\n",
    "# Long form out of place...\n",
    "list_a = ['a', 'b', 'c', 'd']\n",
    "new_list = ['a'] * len(list_a)\n",
    "\n",
    "print(f'Before Swap: {list_a}')\n",
    "\n",
    "length = len(list_a) - 1\n",
    "\n",
    "for i in range(length):\n",
    "    new_list[i] = list_a[length - i]\n",
    "\n",
    "list_a = new_list\n",
    "print(f'After out of place swap: {list_a}')"
   ]
  },
  {
   "cell_type": "markdown",
   "metadata": {},
   "source": [
    "#### In-Class Exercise #1 <br>\n",
    "<p>Write a function that takes in four arguments (list, index1, index2, index3), and swaps those three positions in the list passed in.</p>"
   ]
  },
  {
   "cell_type": "code",
   "execution_count": 6,
   "metadata": {},
   "outputs": [
    {
     "data": {
      "text/plain": [
       "[10, 8, 3, 8, 4, 2, 6]"
      ]
     },
     "execution_count": 6,
     "metadata": {},
     "output_type": "execute_result"
    }
   ],
   "source": [
    "l_1 = [10, 4, 3, 8, 4, 2, 6]\n",
    "\n",
    "def swap_list(alist, index1, index2, index3):\n",
    "    new = alist[:]\n",
    "    new[index1] = alist[index2]\n",
    "    new[index2] = alist[index2]\n",
    "    new[index3] = alist[index3]\n",
    "    return new\n",
    "    \n",
    "\n",
    "swap_list(l_1, 1, 3, 6)"
   ]
  },
  {
   "cell_type": "code",
   "execution_count": 7,
   "metadata": {},
   "outputs": [
    {
     "name": "stdout",
     "output_type": "stream",
     "text": [
      "[3, 10, 4, 8, 4, 2, 6]\n"
     ]
    }
   ],
   "source": [
    "l_1 = [10, 4, 3, 8, 4, 2, 6]\n",
    "\n",
    "def swap_list(alist, index1, index2, index3):\n",
    "    alist[index1], alist[index2], alist[index3] = alist[index3], alist[index1], alist[index2]\n",
    "    \n",
    "\n",
    "swap_list(l_1, 0, 1, 2)\n",
    "print(l_1)"
   ]
  },
  {
   "cell_type": "code",
   "execution_count": 8,
   "metadata": {},
   "outputs": [
    {
     "name": "stdout",
     "output_type": "stream",
     "text": [
      "['JR.', 'Stanton', 'Patrick', 'Brian']\n"
     ]
    }
   ],
   "source": [
    "# Reverse a list in place\n",
    "\n",
    "def reverse_list(alist,  index1, index2, index3, index4):\n",
    "    alist[index1], alist[index2], alist[index3], alist[index4] = alist[index4], alist[index3], alist[index2], alist[index1]\n",
    "    \n",
    "    \n",
    "names = ['Brian', 'Patrick', 'Stanton', 'JR.']\n",
    "reverse_list(names, 0, 1, 2, 3)\n",
    "print(names)"
   ]
  },
  {
   "cell_type": "markdown",
   "metadata": {},
   "source": [
    "## Two Pointers"
   ]
  },
  {
   "cell_type": "markdown",
   "metadata": {},
   "source": [
    "#### Syntax"
   ]
  },
  {
   "cell_type": "code",
   "execution_count": 9,
   "metadata": {},
   "outputs": [
    {
     "data": {
      "text/plain": [
       "[10, 9, 8, 7, 6, 5, 4, 3, 2, 1]"
      ]
     },
     "execution_count": 9,
     "metadata": {},
     "output_type": "execute_result"
    }
   ],
   "source": [
    "def swap_with_pointers(alist):\n",
    "    # Create two variables to point to the index we are wanting to swap\n",
    "    left = 0                      # first element in the list \n",
    "    right = len(alist) - 1        # last element in the list \n",
    "    while left < right:\n",
    "        alist[left], alist[right] = alist[right], alist[left]\n",
    "        left += 1 \n",
    "        right -= 1\n",
    "    return alist\n",
    "\n",
    "mylist2 = [1, 2, 3, 4, 5, 6, 7, 8, 9, 10]\n",
    "swap_with_pointers(mylist2)"
   ]
  },
  {
   "cell_type": "markdown",
   "metadata": {},
   "source": [
    "#### Video of Algorithms <br>\n",
    "<p>Watch the video about algorithms.</p>\n",
    "\n",
    "https://www.youtube.com/watch?v=Q9HjeFD62Uk\n",
    "\n",
    "https://www.youtube.com/watch?v=kPRA0W1kECg\n",
    "\n",
    "https://www.youtube.com/watch?v=ZZuD6iUe3Pc"
   ]
  },
  {
   "cell_type": "markdown",
   "metadata": {},
   "source": [
    "# Sorting Algorithms"
   ]
  },
  {
   "cell_type": "code",
   "execution_count": 10,
   "metadata": {},
   "outputs": [
    {
     "name": "stdout",
     "output_type": "stream",
     "text": [
      "[86, 69, 23, 45, 82, 51, 36, 9, 5, 45]\n"
     ]
    }
   ],
   "source": [
    "import random\n",
    "\n",
    "list_to_sort = [random.randint(1,100) for _ in range(10)]\n",
    "print(list_to_sort)"
   ]
  },
  {
   "cell_type": "markdown",
   "metadata": {},
   "source": [
    "#### Bubble Sort\n",
    "\n",
    "Worst Case: O(n^2) Time - O(1) Space"
   ]
  },
  {
   "cell_type": "code",
   "execution_count": 11,
   "metadata": {},
   "outputs": [
    {
     "data": {
      "text/plain": [
       "[5, 9, 23, 36, 45, 45, 51, 69, 82, 86]"
      ]
     },
     "execution_count": 11,
     "metadata": {},
     "output_type": "execute_result"
    }
   ],
   "source": [
    "def bubble_sort(lst):\n",
    "    # When we first start, assume the list is unsorted\n",
    "    is_sorted = False\n",
    "    \n",
    "    # While the list is unsorted, loop through and bubble largest to top \n",
    "    while not is_sorted:\n",
    "        # Begin the for loop with the assumption that the list is sorted \n",
    "        is_sorted = True\n",
    "        \n",
    "        for idx in range(len(lst) - 1):\n",
    "            \n",
    "            # if the list at index idk is greater than the value io its right \n",
    "            if lst[idx] > lst[idx + 1]:\n",
    "                \n",
    "                # swap the two values \n",
    "                lst[idx], lst[idx + 1] = lst[idx+1], lst[idx]\n",
    "                \n",
    "                # if we have to do any swaps, say that our list is actually not sorted \n",
    "                is_sorted = False\n",
    "    \n",
    "    return lst\n",
    "            \n",
    "bubble_sort(list_to_sort)"
   ]
  },
  {
   "cell_type": "markdown",
   "metadata": {},
   "source": [
    "##### Insertion Sort\n",
    "\n",
    "Worst Case: O(n^2) time - O(1)space"
   ]
  },
  {
   "cell_type": "code",
   "execution_count": 12,
   "metadata": {},
   "outputs": [],
   "source": [
    "def insertion_sort(lst):\n",
    "    for i in range(1, len(lst)):\n",
    "        while i > 0 and lst[i] < lst[i-1]:\n",
    "            lst[i], lst[i-1] = lst[i-1], lst[i]\n",
    "            i -= 1 \n",
    "    return lst\n",
    "    \n",
    "# insertion_sort(list_to_sort2)"
   ]
  },
  {
   "cell_type": "code",
   "execution_count": 13,
   "metadata": {},
   "outputs": [
    {
     "name": "stdout",
     "output_type": "stream",
     "text": [
      "[61, 56, 46, 61, 3, 63, 3, 86, 73, 28]\n"
     ]
    }
   ],
   "source": [
    "list_to_sort2 = [random.randint(1,100) for _ in range(10)]\n",
    "print(list_to_sort2)"
   ]
  },
  {
   "cell_type": "markdown",
   "metadata": {},
   "source": [
    "## Merge Sort"
   ]
  },
  {
   "cell_type": "markdown",
   "metadata": {},
   "source": [
    "#### How it Works"
   ]
  },
  {
   "cell_type": "code",
   "execution_count": 14,
   "metadata": {},
   "outputs": [
    {
     "name": "stdout",
     "output_type": "stream",
     "text": [
      "Merging:  [38]\n",
      "Merging:  [98]\n",
      "Merging:  [38, 98]\n",
      "Merging:  [13]\n",
      "Merging:  [56]\n",
      "Merging:  [13, 56]\n",
      "Merging:  [13, 38, 56, 98]\n",
      "Merging:  [33]\n",
      "Merging:  [77]\n",
      "Merging:  [33, 77]\n",
      "Merging:  [20]\n",
      "Merging:  [44]\n",
      "Merging:  [20, 44]\n",
      "Merging:  [20, 33, 44, 77]\n",
      "Merging:  [13, 20, 33, 38, 44, 56, 77, 98]\n"
     ]
    },
    {
     "data": {
      "text/plain": [
       "[13, 20, 33, 38, 44, 56, 77, 98]"
      ]
     },
     "execution_count": 14,
     "metadata": {},
     "output_type": "execute_result"
    }
   ],
   "source": [
    "def merge_sort(lst):\n",
    "    if len(lst) > 1:\n",
    "        \n",
    "        # Step 1: Divide the array into equal parts (as much as possible) \n",
    "        mid = len(lst) // 2\n",
    "        left_half = lst[:mid]\n",
    "        right_half = lst[mid:]\n",
    "         \n",
    "        # index pointers for our list\n",
    "        l = 0 # pointer for left half\n",
    "        r = 0 # pointer for right half\n",
    "        m = 0 # pointer for main array\n",
    "        \n",
    "        # recursively call mergeSort to perform splits if need\n",
    "        # Then merge once splits are done\n",
    "        merge_sort(left_half)\n",
    "        merge_sort(right_half)\n",
    "        \n",
    "        # Step 2: Compare the lefthalf and righthalf\n",
    "        while l < len(left_half) and r < len(right_half):\n",
    "            if left_half[l] < right_half[r]:\n",
    "                lst[m] = left_half[l]\n",
    "                l = l + 1\n",
    "            else:\n",
    "                lst[m] = right_half[r]\n",
    "                r = r + 1\n",
    "            m = m + 1\n",
    "            \n",
    "        \n",
    "        # Step 3: While merging place items in correct position\n",
    "        while l < len(left_half):\n",
    "            lst[m] = left_half[l]\n",
    "            l += 1\n",
    "            m += 1\n",
    "        \n",
    "        while r < len(right_half):\n",
    "            lst[m] = right_half[r]\n",
    "            r += 1\n",
    "            m += 1 \n",
    "            \n",
    "            \n",
    "    print(\"Merging: \", lst)\n",
    "    return lst\n",
    "\n",
    "nums = [38, 98, 13, 56, 33, 77, 20, 44]\n",
    "merge_sort(nums)   "
   ]
  },
  {
   "cell_type": "markdown",
   "metadata": {},
   "source": [
    "# Binary Search\n",
    "\n",
    "The Binary Search algorithm works by finding the number in the middle of a given array and comparing it to the target. Given that the array is sorted\n",
    "\n",
    "* The worst case run time for this algorithm is `O(log(n))`"
   ]
  },
  {
   "cell_type": "code",
   "execution_count": 15,
   "metadata": {},
   "outputs": [
    {
     "data": {
      "text/plain": [
       "'The index for the 44 is 4'"
      ]
     },
     "execution_count": 15,
     "metadata": {},
     "output_type": "execute_result"
    }
   ],
   "source": [
    "def binary_search(lst, target):\n",
    "    low = 0\n",
    "    high = len(lst) - 1\n",
    "    while low <= high:\n",
    "        mid = (low + high) // 2\n",
    "        if target == lst[mid]:\n",
    "            return f\"The index for the {target} is {mid}\"\n",
    "        elif target < lst[mid]:\n",
    "            high = mid - 1 \n",
    "        else:\n",
    "            low = mid + 1\n",
    "    return -1 \n",
    "\n",
    "binary_search([13, 20, 33, 38, 44, 56, 77, 77, 98], 44)"
   ]
  },
  {
   "cell_type": "markdown",
   "metadata": {},
   "source": [
    "# Exercises"
   ]
  },
  {
   "cell_type": "markdown",
   "metadata": {},
   "source": [
    "### Exercise #1 <br>\n",
    "<p>Reverse the list below in-place using an in-place algorithm.<br>For extra credit: Reverse the strings at the same time.</p>\n",
    "\n",
    "An in-place algorithm is an algorithm that does not need an extra space and produces an output in the same memory that contains the data by transforming the input ‘in-place’. However, a small constant extra space used for variables is allowed."
   ]
  },
  {
   "cell_type": "code",
   "execution_count": 90,
   "metadata": {},
   "outputs": [
    {
     "name": "stdout",
     "output_type": "stream",
     "text": [
      "[5, 4, 3, 2, 1]\n"
     ]
    }
   ],
   "source": [
    "def reverse(alist):\n",
    "\n",
    "   #intializing pointers\n",
    "    left = 0\n",
    "    right = len(alist)-1\n",
    "\n",
    "   #condition for termination\n",
    "    while left<right:\n",
    "\n",
    "       #swapping\n",
    "        temp = alist[left]\n",
    "        alist[left] = alist[right]\n",
    "        alist[right] = temp\n",
    "\n",
    "       #updating pointers\n",
    "        left += 1\n",
    "        right -= 1\n",
    "\n",
    "    return alist\n",
    "\n",
    "print(reverse([1,2,3,4,5]))"
   ]
  },
  {
   "cell_type": "code",
   "execution_count": 16,
   "metadata": {},
   "outputs": [
    {
     "name": "stdout",
     "output_type": "stream",
     "text": [
      "['this', 'is', 'a', 'sentence', '.']\n"
     ]
    },
    {
     "data": {
      "text/plain": [
       "'. ecnetnes a si siht'"
      ]
     },
     "execution_count": 16,
     "metadata": {},
     "output_type": "execute_result"
    }
   ],
   "source": [
    "# this is a NOT in place function \n",
    "words = ['this' , 'is', 'a', 'sentence', '.']\n",
    "\n",
    "def reverse(lst):\n",
    "    return ' '.join(word[::-1] for word in lst[::-1])\n",
    "\n",
    "\n",
    "print(words)\n",
    "reverse(words)"
   ]
  },
  {
   "cell_type": "code",
   "execution_count": 21,
   "metadata": {},
   "outputs": [
    {
     "name": "stdout",
     "output_type": "stream",
     "text": [
      "['this', 'is', 'a', 'sentence', '.']\n"
     ]
    },
    {
     "data": {
      "text/plain": [
       "['.', 'sentence', 'a', 'is', 'this']"
      ]
     },
     "execution_count": 21,
     "metadata": {},
     "output_type": "execute_result"
    }
   ],
   "source": [
    "# not in place example from geeksforgeeks\n",
    "arr = [1, 2, 3, 4, 5, 6]\n",
    "words = ['this' , 'is', 'a', 'sentence', '.']\n",
    "\n",
    "def reverse_array(arr):\n",
    "    print(arr)\n",
    "    n = len(arr)\n",
    "    rev = n * [0]\n",
    "    for i in range(0, n):\n",
    "        rev[n - i - 1] = arr[i]\n",
    "        \n",
    "    for i in range(0, n):\n",
    "        arr[i] = rev[i] \n",
    "    return rev\n",
    "    \n",
    "reverse_array(words)"
   ]
  },
  {
   "cell_type": "code",
   "execution_count": 47,
   "metadata": {},
   "outputs": [
    {
     "name": "stdout",
     "output_type": "stream",
     "text": [
      "['this', 'is', 'a', 'sentence', '.']\n"
     ]
    },
    {
     "data": {
      "text/plain": [
       "['.', 'sentence', 'a', 'is', 'this']"
      ]
     },
     "execution_count": 47,
     "metadata": {},
     "output_type": "execute_result"
    }
   ],
   "source": [
    "# In place example from geeksforgeeks\n",
    "\n",
    "def reverse_array(arr):\n",
    "    print(arr)\n",
    "    n = len(arr)\n",
    "    for i in range(0, int(n /2)):\n",
    "        arr[i], arr[n - i - 1] = arr[n - i - 1], arr[i]\n",
    "        \n",
    "    return arr\n",
    "        \n",
    "words = ['this' , 'is', 'a', 'sentence', '.']\n",
    "reverse_array(words)"
   ]
  },
  {
   "cell_type": "code",
   "execution_count": 86,
   "metadata": {},
   "outputs": [
    {
     "data": {
      "text/plain": [
       "['.', 'ecnetnes', 'a', 'si', 'siht']"
      ]
     },
     "execution_count": 86,
     "metadata": {},
     "output_type": "execute_result"
    }
   ],
   "source": [
    "def reverse_array(arr):\n",
    "    arrs =  list(map(lambda x: x[::-1], arr))\n",
    "    n = len(arrs)\n",
    "    for i in range(0, int(n /2)):\n",
    "        arrs[i], arrs[n - i - 1] = arrs[n - i - 1], arrs[i]\n",
    "         \n",
    "    return arrs\n",
    "\n",
    "words = ['this' , 'is', 'a', 'sentence', '.']\n",
    "reverse_array(words)"
   ]
  },
  {
   "cell_type": "code",
   "execution_count": 93,
   "metadata": {},
   "outputs": [
    {
     "data": {
      "text/plain": [
       "'. ecnetnes a si siht'"
      ]
     },
     "execution_count": 93,
     "metadata": {},
     "output_type": "execute_result"
    }
   ],
   "source": [
    "def reverse_array(arr):\n",
    "    arrt =  ' '.join(arr)\n",
    "    arrs = list(arrt)\n",
    "    n = len(arrs)\n",
    "    for i in range(0, int(n /2)):\n",
    "        arrs[i], arrs[n - i - 1] = arrs[n - i - 1], arrs[i]\n",
    "         \n",
    "    return ''.join(map(str, arrs))\n",
    "\n",
    "words = ['this' , 'is', 'a', 'sentence', '.']\n",
    "reverse_array(words)"
   ]
  },
  {
   "cell_type": "markdown",
   "metadata": {},
   "source": [
    "### Exercise #2 <br>\n",
    "<p>Create a function that counts how many distinct words are in the string below, then outputs a dictionary with the words as the key and the value as the amount of times that word appears in the string.<br>Should output:<br>{'a': 5,<br>\n",
    " 'abstract': 1,<br>\n",
    " 'an': 3,<br>\n",
    " 'array': 2, ... etc...</p>"
   ]
  },
  {
   "cell_type": "code",
   "execution_count": null,
   "metadata": {},
   "outputs": [],
   "source": [
    "# More efficient\n",
    "\n",
    "a_text = 'In computing, a hash table hash map is a data structure which implements an associative array abstract data type, a structure that can map keys to values. A hash table uses a hash function to compute an index into an array of buckets or slots from which the desired value can be found'\n",
    "\n",
    "def return_dict(astr):\n",
    "    astr = f\" {astr} \"           # add space to grab [0] and [-1] values\n",
    "    mydict = {}                  # create empty dict \n",
    "\n",
    "    for word in astr.split(\" \"): # add instances to the dict \n",
    "        if word != \"\":\n",
    "            count = astr.count(f\" {word} \")\n",
    "            mydict[word] = count  \n",
    "            \n",
    "    for key1, value1 in mydict.items():     # finding the duplicate \n",
    "        for key2, value2 in mydict.items():\n",
    "            if key1.upper() == key2:\n",
    "                mydict[key1] += value2      # add duplicate value to key\n",
    "                key_to_del = key2\n",
    "\n",
    "    del mydict[key_to_del]                  # deleting the duplicate  \n",
    "        \n",
    "    return mydict\n",
    "            \n",
    "\n",
    "\n",
    "return_dict(a_text)"
   ]
  },
  {
   "cell_type": "code",
   "execution_count": null,
   "metadata": {},
   "outputs": [],
   "source": [
    "a_text = 'In computing, a hash table hash map is a data structure which implements an associative array abstract data type, a structure that can map keys to values. A hash table uses a hash function to compute an index into an array of buckets or slots from which the desired value can be found'\n",
    "b_text = \"one\"\n",
    "def word_counter(alist):\n",
    "    word_dict = {}\n",
    "    for word in alist.split():\n",
    "        word = word.rstrip(',')\n",
    "        if word in word_dict:\n",
    "            word_dict[word] += 1\n",
    "        else:\n",
    "            word_dict[word] = 1\n",
    "    return word_dict"
   ]
  },
  {
   "cell_type": "code",
   "execution_count": null,
   "metadata": {},
   "outputs": [],
   "source": [
    "a_text = 'In computing, a hash table hash map is a data structure which implements an associative array abstract data type, a structure that can map keys to values. A hash table uses a hash function to compute an index into an array of buckets or slots from which the desired value can be found'\n",
    "\n",
    "def return_dict(astr):\n",
    "    astr = f\" {astr} \"           # add space to grab [0] and [-1] values\n",
    "    mydict = {}\n",
    "    for word in astr.split(\" \"):\n",
    "        if word == \"\":\n",
    "            continue\n",
    "        else:\n",
    "            count = astr.count(f\" {word} \")\n",
    "            mydict[word] = count        \n",
    "     \n",
    "    # create a new dictionary to hold value of 'A'\n",
    "    new_dict = dict((k.lower(), v ) for k, v in mydict.items() if k.isupper()) \n",
    "    \n",
    "    count2 = 0\n",
    "    finaldict = {}\n",
    "    \n",
    "    # merge dictionaries \n",
    "    for key, value in mydict.items():\n",
    "        if key.lower() in new_dict.keys(): # get total value of repeating keys (ie. 'A' and 'a')\n",
    "            count2 += value     \n",
    "        if key.lower() in new_dict.keys():\n",
    "            key = key.lower()\n",
    "            finaldict[key] = count2\n",
    "        else:\n",
    "            finaldict[key] = value\n",
    "\n",
    "    return finaldict\n",
    "\n",
    "\n",
    "\n",
    "return_dict(a_text)"
   ]
  },
  {
   "cell_type": "markdown",
   "metadata": {},
   "source": [
    "## Exercise #3\n",
    "\n",
    "Write a program to implement a Linear Search Algorithm. Also in a comment, write the Time Complexity of the following algorithm.\n",
    "\n",
    "#### Hint: Linear Searching will require searching a list for a given number. "
   ]
  },
  {
   "cell_type": "code",
   "execution_count": null,
   "metadata": {},
   "outputs": [],
   "source": [
    "# linear search = start and compare the elements until we find x\n",
    "# return x\n",
    "# else return -1\n",
    "\n",
    "def linear_search(lst, x): \n",
    "    for i in range(0, len(lst)):\n",
    "        if (lst[i] == x):\n",
    "            return i\n",
    "    return -1\n",
    "\n",
    "\n",
    "\n",
    "num_list = [1, 3, 4, 32, 324, 32, 34, 23, 786, 93]\n",
    "linear_search(num_list, 4)\n",
    "\n",
    "# time complexity is O(n) (i think)"
   ]
  }
 ],
 "metadata": {
  "kernelspec": {
   "display_name": "Python 3 (ipykernel)",
   "language": "python",
   "name": "python3"
  },
  "language_info": {
   "codemirror_mode": {
    "name": "ipython",
    "version": 3
   },
   "file_extension": ".py",
   "mimetype": "text/x-python",
   "name": "python",
   "nbconvert_exporter": "python",
   "pygments_lexer": "ipython3",
   "version": "3.9.7"
  }
 },
 "nbformat": 4,
 "nbformat_minor": 2
}
